{
 "cells": [
  {
   "cell_type": "code",
   "execution_count": 1,
   "metadata": {},
   "outputs": [],
   "source": [
    "import pandas as pd"
   ]
  },
  {
   "cell_type": "markdown",
   "metadata": {},
   "source": [
    "#### read data"
   ]
  },
  {
   "cell_type": "code",
   "execution_count": 2,
   "metadata": {},
   "outputs": [],
   "source": [
    "nutrient_data = pd.read_csv('food_nutrient.csv')\n",
    "comps = pd.read_csv('comps.csv')\n",
    "nutrient_code = pd.read_csv('nutrient.csv')"
   ]
  },
  {
   "cell_type": "code",
   "execution_count": 3,
   "metadata": {},
   "outputs": [],
   "source": [
    "comps = comps[comps.brand_owner == 'JBS USA, LLC']"
   ]
  },
  {
   "cell_type": "code",
   "execution_count": 4,
   "metadata": {},
   "outputs": [
    {
     "data": {
      "text/html": [
       "<div>\n",
       "<style scoped>\n",
       "    .dataframe tbody tr th:only-of-type {\n",
       "        vertical-align: middle;\n",
       "    }\n",
       "\n",
       "    .dataframe tbody tr th {\n",
       "        vertical-align: top;\n",
       "    }\n",
       "\n",
       "    .dataframe thead th {\n",
       "        text-align: right;\n",
       "    }\n",
       "</style>\n",
       "<table border=\"1\" class=\"dataframe\">\n",
       "  <thead>\n",
       "    <tr style=\"text-align: right;\">\n",
       "      <th></th>\n",
       "      <th>id</th>\n",
       "      <th>fdc_id</th>\n",
       "      <th>nutrient_id</th>\n",
       "      <th>amount</th>\n",
       "      <th>data_points</th>\n",
       "      <th>derivation_id</th>\n",
       "      <th>min</th>\n",
       "      <th>max</th>\n",
       "      <th>median</th>\n",
       "      <th>footnote</th>\n",
       "      <th>min_year_acquired</th>\n",
       "    </tr>\n",
       "  </thead>\n",
       "  <tbody>\n",
       "    <tr>\n",
       "      <th>0</th>\n",
       "      <td>13706913</td>\n",
       "      <td>1105904</td>\n",
       "      <td>203</td>\n",
       "      <td>0.00</td>\n",
       "      <td>NaN</td>\n",
       "      <td>71.0</td>\n",
       "      <td>NaN</td>\n",
       "      <td>NaN</td>\n",
       "      <td>NaN</td>\n",
       "      <td>NaN</td>\n",
       "      <td>NaN</td>\n",
       "    </tr>\n",
       "    <tr>\n",
       "      <th>1</th>\n",
       "      <td>13706914</td>\n",
       "      <td>1105904</td>\n",
       "      <td>204</td>\n",
       "      <td>93.33</td>\n",
       "      <td>NaN</td>\n",
       "      <td>71.0</td>\n",
       "      <td>NaN</td>\n",
       "      <td>NaN</td>\n",
       "      <td>NaN</td>\n",
       "      <td>NaN</td>\n",
       "      <td>NaN</td>\n",
       "    </tr>\n",
       "    <tr>\n",
       "      <th>2</th>\n",
       "      <td>13706915</td>\n",
       "      <td>1105904</td>\n",
       "      <td>205</td>\n",
       "      <td>0.00</td>\n",
       "      <td>NaN</td>\n",
       "      <td>75.0</td>\n",
       "      <td>NaN</td>\n",
       "      <td>NaN</td>\n",
       "      <td>NaN</td>\n",
       "      <td>NaN</td>\n",
       "      <td>NaN</td>\n",
       "    </tr>\n",
       "  </tbody>\n",
       "</table>\n",
       "</div>"
      ],
      "text/plain": [
       "         id   fdc_id  nutrient_id  amount  data_points  derivation_id  min  \\\n",
       "0  13706913  1105904          203    0.00          NaN           71.0  NaN   \n",
       "1  13706914  1105904          204   93.33          NaN           71.0  NaN   \n",
       "2  13706915  1105904          205    0.00          NaN           75.0  NaN   \n",
       "\n",
       "   max  median  footnote  min_year_acquired  \n",
       "0  NaN     NaN       NaN                NaN  \n",
       "1  NaN     NaN       NaN                NaN  \n",
       "2  NaN     NaN       NaN                NaN  "
      ]
     },
     "execution_count": 4,
     "metadata": {},
     "output_type": "execute_result"
    }
   ],
   "source": [
    "nutrient_data.head(3)"
   ]
  },
  {
   "cell_type": "code",
   "execution_count": 6,
   "metadata": {},
   "outputs": [
    {
     "data": {
      "text/html": [
       "<div>\n",
       "<style scoped>\n",
       "    .dataframe tbody tr th:only-of-type {\n",
       "        vertical-align: middle;\n",
       "    }\n",
       "\n",
       "    .dataframe tbody tr th {\n",
       "        vertical-align: top;\n",
       "    }\n",
       "\n",
       "    .dataframe thead th {\n",
       "        text-align: right;\n",
       "    }\n",
       "</style>\n",
       "<table border=\"1\" class=\"dataframe\">\n",
       "  <thead>\n",
       "    <tr style=\"text-align: right;\">\n",
       "      <th></th>\n",
       "      <th>id</th>\n",
       "      <th>name</th>\n",
       "      <th>unit_name</th>\n",
       "      <th>nutrient_nbr</th>\n",
       "      <th>rank</th>\n",
       "    </tr>\n",
       "  </thead>\n",
       "  <tbody>\n",
       "    <tr>\n",
       "      <th>0</th>\n",
       "      <td>2047</td>\n",
       "      <td>Energy (Atwater General Factors)</td>\n",
       "      <td>KCAL</td>\n",
       "      <td>957.0</td>\n",
       "      <td>280.0</td>\n",
       "    </tr>\n",
       "    <tr>\n",
       "      <th>1</th>\n",
       "      <td>2048</td>\n",
       "      <td>Energy (Atwater Specific Factors)</td>\n",
       "      <td>KCAL</td>\n",
       "      <td>958.0</td>\n",
       "      <td>290.0</td>\n",
       "    </tr>\n",
       "    <tr>\n",
       "      <th>2</th>\n",
       "      <td>1001</td>\n",
       "      <td>Solids</td>\n",
       "      <td>G</td>\n",
       "      <td>201.0</td>\n",
       "      <td>200.0</td>\n",
       "    </tr>\n",
       "  </tbody>\n",
       "</table>\n",
       "</div>"
      ],
      "text/plain": [
       "     id                               name unit_name  nutrient_nbr   rank\n",
       "0  2047   Energy (Atwater General Factors)      KCAL         957.0  280.0\n",
       "1  2048  Energy (Atwater Specific Factors)      KCAL         958.0  290.0\n",
       "2  1001                             Solids         G         201.0  200.0"
      ]
     },
     "execution_count": 6,
     "metadata": {},
     "output_type": "execute_result"
    }
   ],
   "source": [
    "nutrient_code.head(3)"
   ]
  },
  {
   "cell_type": "markdown",
   "metadata": {},
   "source": [
    "#### merge data"
   ]
  },
  {
   "cell_type": "code",
   "execution_count": 8,
   "metadata": {},
   "outputs": [],
   "source": [
    "comps_nutrient = comps.merge(nutrient_data, how = 'inner', on = 'fdc_id')"
   ]
  },
  {
   "cell_type": "code",
   "execution_count": 9,
   "metadata": {},
   "outputs": [
    {
     "data": {
      "text/html": [
       "<div>\n",
       "<style scoped>\n",
       "    .dataframe tbody tr th:only-of-type {\n",
       "        vertical-align: middle;\n",
       "    }\n",
       "\n",
       "    .dataframe tbody tr th {\n",
       "        vertical-align: top;\n",
       "    }\n",
       "\n",
       "    .dataframe thead th {\n",
       "        text-align: right;\n",
       "    }\n",
       "</style>\n",
       "<table border=\"1\" class=\"dataframe\">\n",
       "  <thead>\n",
       "    <tr style=\"text-align: right;\">\n",
       "      <th></th>\n",
       "      <th>Unnamed: 0</th>\n",
       "      <th>fdc_id</th>\n",
       "      <th>brand_owner</th>\n",
       "      <th>brand_name</th>\n",
       "      <th>subbrand_name</th>\n",
       "      <th>gtin_upc</th>\n",
       "      <th>ingredients</th>\n",
       "      <th>not_a_significant_source_of</th>\n",
       "      <th>serving_size</th>\n",
       "      <th>serving_size_unit</th>\n",
       "      <th>...</th>\n",
       "      <th>id</th>\n",
       "      <th>nutrient_id</th>\n",
       "      <th>amount</th>\n",
       "      <th>data_points</th>\n",
       "      <th>derivation_id</th>\n",
       "      <th>min</th>\n",
       "      <th>max</th>\n",
       "      <th>median</th>\n",
       "      <th>footnote</th>\n",
       "      <th>min_year_acquired</th>\n",
       "    </tr>\n",
       "  </thead>\n",
       "  <tbody>\n",
       "    <tr>\n",
       "      <th>0</th>\n",
       "      <td>21947</td>\n",
       "      <td>1127851</td>\n",
       "      <td>JBS USA, LLC</td>\n",
       "      <td>NaN</td>\n",
       "      <td>NaN</td>\n",
       "      <td>76338473991</td>\n",
       "      <td>GROUND BEEF</td>\n",
       "      <td>NaN</td>\n",
       "      <td>112.0</td>\n",
       "      <td>g</td>\n",
       "      <td>...</td>\n",
       "      <td>13340131</td>\n",
       "      <td>303</td>\n",
       "      <td>2.41</td>\n",
       "      <td>NaN</td>\n",
       "      <td>75.0</td>\n",
       "      <td>NaN</td>\n",
       "      <td>NaN</td>\n",
       "      <td>NaN</td>\n",
       "      <td>NaN</td>\n",
       "      <td>NaN</td>\n",
       "    </tr>\n",
       "    <tr>\n",
       "      <th>1</th>\n",
       "      <td>21947</td>\n",
       "      <td>1127851</td>\n",
       "      <td>JBS USA, LLC</td>\n",
       "      <td>NaN</td>\n",
       "      <td>NaN</td>\n",
       "      <td>76338473991</td>\n",
       "      <td>GROUND BEEF</td>\n",
       "      <td>NaN</td>\n",
       "      <td>112.0</td>\n",
       "      <td>g</td>\n",
       "      <td>...</td>\n",
       "      <td>13340134</td>\n",
       "      <td>601</td>\n",
       "      <td>67.00</td>\n",
       "      <td>NaN</td>\n",
       "      <td>70.0</td>\n",
       "      <td>NaN</td>\n",
       "      <td>NaN</td>\n",
       "      <td>NaN</td>\n",
       "      <td>NaN</td>\n",
       "      <td>NaN</td>\n",
       "    </tr>\n",
       "    <tr>\n",
       "      <th>2</th>\n",
       "      <td>21947</td>\n",
       "      <td>1127851</td>\n",
       "      <td>JBS USA, LLC</td>\n",
       "      <td>NaN</td>\n",
       "      <td>NaN</td>\n",
       "      <td>76338473991</td>\n",
       "      <td>GROUND BEEF</td>\n",
       "      <td>NaN</td>\n",
       "      <td>112.0</td>\n",
       "      <td>g</td>\n",
       "      <td>...</td>\n",
       "      <td>13340127</td>\n",
       "      <td>203</td>\n",
       "      <td>19.64</td>\n",
       "      <td>NaN</td>\n",
       "      <td>70.0</td>\n",
       "      <td>NaN</td>\n",
       "      <td>NaN</td>\n",
       "      <td>NaN</td>\n",
       "      <td>NaN</td>\n",
       "      <td>NaN</td>\n",
       "    </tr>\n",
       "  </tbody>\n",
       "</table>\n",
       "<p>3 rows × 30 columns</p>\n",
       "</div>"
      ],
      "text/plain": [
       "   Unnamed: 0   fdc_id   brand_owner brand_name subbrand_name     gtin_upc  \\\n",
       "0       21947  1127851  JBS USA, LLC        NaN           NaN  76338473991   \n",
       "1       21947  1127851  JBS USA, LLC        NaN           NaN  76338473991   \n",
       "2       21947  1127851  JBS USA, LLC        NaN           NaN  76338473991   \n",
       "\n",
       "   ingredients not_a_significant_source_of  serving_size serving_size_unit  \\\n",
       "0  GROUND BEEF                         NaN         112.0                 g   \n",
       "1  GROUND BEEF                         NaN         112.0                 g   \n",
       "2  GROUND BEEF                         NaN         112.0                 g   \n",
       "\n",
       "   ...        id nutrient_id amount data_points derivation_id min max  median  \\\n",
       "0  ...  13340131         303   2.41         NaN          75.0 NaN NaN     NaN   \n",
       "1  ...  13340134         601  67.00         NaN          70.0 NaN NaN     NaN   \n",
       "2  ...  13340127         203  19.64         NaN          70.0 NaN NaN     NaN   \n",
       "\n",
       "  footnote  min_year_acquired  \n",
       "0      NaN                NaN  \n",
       "1      NaN                NaN  \n",
       "2      NaN                NaN  \n",
       "\n",
       "[3 rows x 30 columns]"
      ]
     },
     "execution_count": 9,
     "metadata": {},
     "output_type": "execute_result"
    }
   ],
   "source": [
    "comps_nutrient.head(3)"
   ]
  },
  {
   "cell_type": "code",
   "execution_count": 10,
   "metadata": {},
   "outputs": [],
   "source": [
    "nutrient_code = nutrient_code[nutrient_code['nutrient_nbr'].notna()]\n",
    "nutrient_code['nutrient_nbr'] = nutrient_code['nutrient_nbr'].astype(int)\n",
    "nutrient_code = nutrient_code.rename(columns={\"nutrient_nbr\": \"nutrient_id\"})"
   ]
  },
  {
   "cell_type": "code",
   "execution_count": 11,
   "metadata": {},
   "outputs": [],
   "source": [
    "master_df = comps_nutrient.merge(nutrient_code, how = 'inner', on = 'nutrient_id')"
   ]
  },
  {
   "cell_type": "code",
   "execution_count": 12,
   "metadata": {},
   "outputs": [
    {
     "data": {
      "text/html": [
       "<div>\n",
       "<style scoped>\n",
       "    .dataframe tbody tr th:only-of-type {\n",
       "        vertical-align: middle;\n",
       "    }\n",
       "\n",
       "    .dataframe tbody tr th {\n",
       "        vertical-align: top;\n",
       "    }\n",
       "\n",
       "    .dataframe thead th {\n",
       "        text-align: right;\n",
       "    }\n",
       "</style>\n",
       "<table border=\"1\" class=\"dataframe\">\n",
       "  <thead>\n",
       "    <tr style=\"text-align: right;\">\n",
       "      <th></th>\n",
       "      <th>Unnamed: 0</th>\n",
       "      <th>fdc_id</th>\n",
       "      <th>brand_owner</th>\n",
       "      <th>brand_name</th>\n",
       "      <th>subbrand_name</th>\n",
       "      <th>gtin_upc</th>\n",
       "      <th>ingredients</th>\n",
       "      <th>not_a_significant_source_of</th>\n",
       "      <th>serving_size</th>\n",
       "      <th>serving_size_unit</th>\n",
       "      <th>...</th>\n",
       "      <th>derivation_id</th>\n",
       "      <th>min</th>\n",
       "      <th>max</th>\n",
       "      <th>median</th>\n",
       "      <th>footnote</th>\n",
       "      <th>min_year_acquired</th>\n",
       "      <th>id_y</th>\n",
       "      <th>name</th>\n",
       "      <th>unit_name</th>\n",
       "      <th>rank</th>\n",
       "    </tr>\n",
       "  </thead>\n",
       "  <tbody>\n",
       "    <tr>\n",
       "      <th>0</th>\n",
       "      <td>21947</td>\n",
       "      <td>1127851</td>\n",
       "      <td>JBS USA, LLC</td>\n",
       "      <td>NaN</td>\n",
       "      <td>NaN</td>\n",
       "      <td>76338473991</td>\n",
       "      <td>GROUND BEEF</td>\n",
       "      <td>NaN</td>\n",
       "      <td>112.0</td>\n",
       "      <td>g</td>\n",
       "      <td>...</td>\n",
       "      <td>75.0</td>\n",
       "      <td>NaN</td>\n",
       "      <td>NaN</td>\n",
       "      <td>NaN</td>\n",
       "      <td>NaN</td>\n",
       "      <td>NaN</td>\n",
       "      <td>1089</td>\n",
       "      <td>Iron, Fe</td>\n",
       "      <td>MG</td>\n",
       "      <td>5400.0</td>\n",
       "    </tr>\n",
       "    <tr>\n",
       "      <th>1</th>\n",
       "      <td>22077</td>\n",
       "      <td>1127981</td>\n",
       "      <td>JBS USA, LLC</td>\n",
       "      <td>NaN</td>\n",
       "      <td>NaN</td>\n",
       "      <td>45310952205</td>\n",
       "      <td>BEEF, LESS THAN 2% OF: SALT, BROWN SUGAR, SUGA...</td>\n",
       "      <td>NaN</td>\n",
       "      <td>112.0</td>\n",
       "      <td>g</td>\n",
       "      <td>...</td>\n",
       "      <td>75.0</td>\n",
       "      <td>NaN</td>\n",
       "      <td>NaN</td>\n",
       "      <td>NaN</td>\n",
       "      <td>NaN</td>\n",
       "      <td>NaN</td>\n",
       "      <td>1089</td>\n",
       "      <td>Iron, Fe</td>\n",
       "      <td>MG</td>\n",
       "      <td>5400.0</td>\n",
       "    </tr>\n",
       "    <tr>\n",
       "      <th>2</th>\n",
       "      <td>32235</td>\n",
       "      <td>1138139</td>\n",
       "      <td>JBS USA, LLC</td>\n",
       "      <td>NaN</td>\n",
       "      <td>NaN</td>\n",
       "      <td>76338966707</td>\n",
       "      <td>100% GRASS FED BEEF</td>\n",
       "      <td>NaN</td>\n",
       "      <td>112.0</td>\n",
       "      <td>g</td>\n",
       "      <td>...</td>\n",
       "      <td>75.0</td>\n",
       "      <td>NaN</td>\n",
       "      <td>NaN</td>\n",
       "      <td>NaN</td>\n",
       "      <td>NaN</td>\n",
       "      <td>NaN</td>\n",
       "      <td>1089</td>\n",
       "      <td>Iron, Fe</td>\n",
       "      <td>MG</td>\n",
       "      <td>5400.0</td>\n",
       "    </tr>\n",
       "  </tbody>\n",
       "</table>\n",
       "<p>3 rows × 34 columns</p>\n",
       "</div>"
      ],
      "text/plain": [
       "   Unnamed: 0   fdc_id   brand_owner brand_name subbrand_name     gtin_upc  \\\n",
       "0       21947  1127851  JBS USA, LLC        NaN           NaN  76338473991   \n",
       "1       22077  1127981  JBS USA, LLC        NaN           NaN  45310952205   \n",
       "2       32235  1138139  JBS USA, LLC        NaN           NaN  76338966707   \n",
       "\n",
       "                                         ingredients  \\\n",
       "0                                        GROUND BEEF   \n",
       "1  BEEF, LESS THAN 2% OF: SALT, BROWN SUGAR, SUGA...   \n",
       "2                                100% GRASS FED BEEF   \n",
       "\n",
       "  not_a_significant_source_of  serving_size serving_size_unit  ...  \\\n",
       "0                         NaN         112.0                 g  ...   \n",
       "1                         NaN         112.0                 g  ...   \n",
       "2                         NaN         112.0                 g  ...   \n",
       "\n",
       "  derivation_id min max median footnote min_year_acquired  id_y      name  \\\n",
       "0          75.0 NaN NaN    NaN      NaN               NaN  1089  Iron, Fe   \n",
       "1          75.0 NaN NaN    NaN      NaN               NaN  1089  Iron, Fe   \n",
       "2          75.0 NaN NaN    NaN      NaN               NaN  1089  Iron, Fe   \n",
       "\n",
       "  unit_name    rank  \n",
       "0        MG  5400.0  \n",
       "1        MG  5400.0  \n",
       "2        MG  5400.0  \n",
       "\n",
       "[3 rows x 34 columns]"
      ]
     },
     "execution_count": 12,
     "metadata": {},
     "output_type": "execute_result"
    }
   ],
   "source": [
    "master_df.head(3)"
   ]
  },
  {
   "cell_type": "code",
   "execution_count": 13,
   "metadata": {},
   "outputs": [
    {
     "data": {
      "text/plain": [
       "Index(['Unnamed: 0', 'fdc_id', 'brand_owner', 'brand_name', 'subbrand_name',\n",
       "       'gtin_upc', 'ingredients', 'not_a_significant_source_of',\n",
       "       'serving_size', 'serving_size_unit', 'household_serving_fulltext',\n",
       "       'branded_food_category', 'data_source', 'package_weight',\n",
       "       'modified_date', 'available_date', 'market_country',\n",
       "       'discontinued_date', 'preparation_state_code', 'trade_channel', 'id_x',\n",
       "       'nutrient_id', 'amount', 'data_points', 'derivation_id', 'min', 'max',\n",
       "       'median', 'footnote', 'min_year_acquired', 'id_y', 'name', 'unit_name',\n",
       "       'rank'],\n",
       "      dtype='object')"
      ]
     },
     "execution_count": 13,
     "metadata": {},
     "output_type": "execute_result"
    }
   ],
   "source": [
    "master_df.columns"
   ]
  },
  {
   "cell_type": "code",
   "execution_count": 14,
   "metadata": {},
   "outputs": [],
   "source": [
    "target_columns = ['fdc_id', 'brand_owner', 'serving_size', \n",
    "        'branded_food_category', 'nutrient_id', 'name', 'amount']"
   ]
  },
  {
   "cell_type": "code",
   "execution_count": 15,
   "metadata": {},
   "outputs": [],
   "source": [
    "master_df = master_df[target_columns]"
   ]
  },
  {
   "cell_type": "code",
   "execution_count": 16,
   "metadata": {},
   "outputs": [
    {
     "data": {
      "text/plain": [
       "Other Meats                   2119\n",
       "Sausages, Hotdogs & Brats       99\n",
       "Frozen Patties and Burgers      60\n",
       "Poultry, Chicken & Turkey       34\n",
       "Other Frozen Meats              30\n",
       "Name: branded_food_category, dtype: int64"
      ]
     },
     "execution_count": 16,
     "metadata": {},
     "output_type": "execute_result"
    }
   ],
   "source": [
    "master_df.branded_food_category.value_counts().head(5)"
   ]
  },
  {
   "cell_type": "markdown",
   "metadata": {},
   "source": [
    "Here I chose top food category to dive deep into: 'Other Meats'"
   ]
  },
  {
   "cell_type": "code",
   "execution_count": 17,
   "metadata": {},
   "outputs": [],
   "source": [
    "master_df = master_df[(master_df.branded_food_category == 'Other Meats')]"
   ]
  },
  {
   "cell_type": "code",
   "execution_count": 18,
   "metadata": {},
   "outputs": [
    {
     "data": {
      "text/plain": [
       "112.0    1768\n",
       "151.0     100\n",
       "113.0      80\n",
       "170.0      48\n",
       "141.0      48\n",
       "227.0      30\n",
       "135.0      29\n",
       "142.0      16\n",
       "Name: serving_size, dtype: int64"
      ]
     },
     "execution_count": 18,
     "metadata": {},
     "output_type": "execute_result"
    }
   ],
   "source": [
    "master_df.serving_size.value_counts()"
   ]
  },
  {
   "cell_type": "markdown",
   "metadata": {},
   "source": [
    "I will focus on serving_size = 112 to make sure all the products are on the same scale"
   ]
  },
  {
   "cell_type": "code",
   "execution_count": 19,
   "metadata": {},
   "outputs": [],
   "source": [
    "master_df = master_df[(master_df.serving_size == 112.0)]"
   ]
  },
  {
   "cell_type": "code",
   "execution_count": 20,
   "metadata": {},
   "outputs": [
    {
     "data": {
      "text/plain": [
       "Iron, Fe                        143\n",
       "Protein                         143\n",
       "Fatty acids, total saturated    143\n",
       "Total lipid (fat)               143\n",
       "Energy                          143\n",
       "Name: name, dtype: int64"
      ]
     },
     "execution_count": 20,
     "metadata": {},
     "output_type": "execute_result"
    }
   ],
   "source": [
    "master_df.name.value_counts().head(5)"
   ]
  },
  {
   "cell_type": "code",
   "execution_count": 21,
   "metadata": {},
   "outputs": [],
   "source": [
    "master_df = master_df[(master_df.name == 'Iron, Fe')|(master_df.name == 'Cholesterol')|(master_df.name == 'Protein')|\n",
    "                        (master_df.name == 'Fatty acids, total saturated') | (master_df.name == 'Total lipid (fat)')]"
   ]
  },
  {
   "cell_type": "code",
   "execution_count": 22,
   "metadata": {},
   "outputs": [
    {
     "data": {
      "text/html": [
       "<div>\n",
       "<style scoped>\n",
       "    .dataframe tbody tr th:only-of-type {\n",
       "        vertical-align: middle;\n",
       "    }\n",
       "\n",
       "    .dataframe tbody tr th {\n",
       "        vertical-align: top;\n",
       "    }\n",
       "\n",
       "    .dataframe thead th {\n",
       "        text-align: right;\n",
       "    }\n",
       "</style>\n",
       "<table border=\"1\" class=\"dataframe\">\n",
       "  <thead>\n",
       "    <tr style=\"text-align: right;\">\n",
       "      <th></th>\n",
       "      <th>fdc_id</th>\n",
       "      <th>brand_owner</th>\n",
       "      <th>serving_size</th>\n",
       "      <th>branded_food_category</th>\n",
       "      <th>nutrient_id</th>\n",
       "      <th>name</th>\n",
       "      <th>amount</th>\n",
       "    </tr>\n",
       "  </thead>\n",
       "  <tbody>\n",
       "    <tr>\n",
       "      <th>0</th>\n",
       "      <td>1127851</td>\n",
       "      <td>JBS USA, LLC</td>\n",
       "      <td>112.0</td>\n",
       "      <td>Other Meats</td>\n",
       "      <td>303</td>\n",
       "      <td>Iron, Fe</td>\n",
       "      <td>2.41</td>\n",
       "    </tr>\n",
       "    <tr>\n",
       "      <th>1</th>\n",
       "      <td>1127981</td>\n",
       "      <td>JBS USA, LLC</td>\n",
       "      <td>112.0</td>\n",
       "      <td>Other Meats</td>\n",
       "      <td>303</td>\n",
       "      <td>Iron, Fe</td>\n",
       "      <td>1.61</td>\n",
       "    </tr>\n",
       "    <tr>\n",
       "      <th>2</th>\n",
       "      <td>1138139</td>\n",
       "      <td>JBS USA, LLC</td>\n",
       "      <td>112.0</td>\n",
       "      <td>Other Meats</td>\n",
       "      <td>303</td>\n",
       "      <td>Iron, Fe</td>\n",
       "      <td>2.41</td>\n",
       "    </tr>\n",
       "    <tr>\n",
       "      <th>3</th>\n",
       "      <td>1138887</td>\n",
       "      <td>JBS USA, LLC</td>\n",
       "      <td>112.0</td>\n",
       "      <td>Other Meats</td>\n",
       "      <td>303</td>\n",
       "      <td>Iron, Fe</td>\n",
       "      <td>1.61</td>\n",
       "    </tr>\n",
       "    <tr>\n",
       "      <th>4</th>\n",
       "      <td>1139727</td>\n",
       "      <td>JBS USA, LLC</td>\n",
       "      <td>112.0</td>\n",
       "      <td>Other Meats</td>\n",
       "      <td>303</td>\n",
       "      <td>Iron, Fe</td>\n",
       "      <td>2.41</td>\n",
       "    </tr>\n",
       "  </tbody>\n",
       "</table>\n",
       "</div>"
      ],
      "text/plain": [
       "    fdc_id   brand_owner  serving_size branded_food_category  nutrient_id  \\\n",
       "0  1127851  JBS USA, LLC         112.0           Other Meats          303   \n",
       "1  1127981  JBS USA, LLC         112.0           Other Meats          303   \n",
       "2  1138139  JBS USA, LLC         112.0           Other Meats          303   \n",
       "3  1138887  JBS USA, LLC         112.0           Other Meats          303   \n",
       "4  1139727  JBS USA, LLC         112.0           Other Meats          303   \n",
       "\n",
       "       name  amount  \n",
       "0  Iron, Fe    2.41  \n",
       "1  Iron, Fe    1.61  \n",
       "2  Iron, Fe    2.41  \n",
       "3  Iron, Fe    1.61  \n",
       "4  Iron, Fe    2.41  "
      ]
     },
     "execution_count": 22,
     "metadata": {},
     "output_type": "execute_result"
    }
   ],
   "source": [
    "master_df.head(5)"
   ]
  },
  {
   "cell_type": "code",
   "execution_count": 23,
   "metadata": {},
   "outputs": [],
   "source": [
    "agg_df = master_df.groupby(['name', 'brand_owner']).agg({'amount':'mean'}).reset_index()"
   ]
  },
  {
   "cell_type": "code",
   "execution_count": 24,
   "metadata": {},
   "outputs": [
    {
     "data": {
      "text/html": [
       "<div>\n",
       "<style scoped>\n",
       "    .dataframe tbody tr th:only-of-type {\n",
       "        vertical-align: middle;\n",
       "    }\n",
       "\n",
       "    .dataframe tbody tr th {\n",
       "        vertical-align: top;\n",
       "    }\n",
       "\n",
       "    .dataframe thead th {\n",
       "        text-align: right;\n",
       "    }\n",
       "</style>\n",
       "<table border=\"1\" class=\"dataframe\">\n",
       "  <thead>\n",
       "    <tr style=\"text-align: right;\">\n",
       "      <th></th>\n",
       "      <th>name</th>\n",
       "      <th>brand_owner</th>\n",
       "      <th>amount</th>\n",
       "    </tr>\n",
       "  </thead>\n",
       "  <tbody>\n",
       "    <tr>\n",
       "      <th>0</th>\n",
       "      <td>Cholesterol</td>\n",
       "      <td>JBS USA, LLC</td>\n",
       "      <td>66.909091</td>\n",
       "    </tr>\n",
       "    <tr>\n",
       "      <th>1</th>\n",
       "      <td>Fatty acids, total saturated</td>\n",
       "      <td>JBS USA, LLC</td>\n",
       "      <td>5.431888</td>\n",
       "    </tr>\n",
       "    <tr>\n",
       "      <th>2</th>\n",
       "      <td>Iron, Fe</td>\n",
       "      <td>JBS USA, LLC</td>\n",
       "      <td>1.713357</td>\n",
       "    </tr>\n",
       "    <tr>\n",
       "      <th>3</th>\n",
       "      <td>Protein</td>\n",
       "      <td>JBS USA, LLC</td>\n",
       "      <td>18.905664</td>\n",
       "    </tr>\n",
       "    <tr>\n",
       "      <th>4</th>\n",
       "      <td>Total lipid (fat)</td>\n",
       "      <td>JBS USA, LLC</td>\n",
       "      <td>14.029441</td>\n",
       "    </tr>\n",
       "  </tbody>\n",
       "</table>\n",
       "</div>"
      ],
      "text/plain": [
       "                           name   brand_owner     amount\n",
       "0                   Cholesterol  JBS USA, LLC  66.909091\n",
       "1  Fatty acids, total saturated  JBS USA, LLC   5.431888\n",
       "2                      Iron, Fe  JBS USA, LLC   1.713357\n",
       "3                       Protein  JBS USA, LLC  18.905664\n",
       "4             Total lipid (fat)  JBS USA, LLC  14.029441"
      ]
     },
     "execution_count": 24,
     "metadata": {},
     "output_type": "execute_result"
    }
   ],
   "source": [
    "agg_df"
   ]
  },
  {
   "cell_type": "markdown",
   "metadata": {},
   "source": [
    "#### Get the industry average"
   ]
  },
  {
   "cell_type": "code",
   "execution_count": 25,
   "metadata": {},
   "outputs": [
    {
     "name": "stderr",
     "output_type": "stream",
     "text": [
      "/var/folders/0g/njjqxd9s5_j0lwlpvmx1n_nc0000gn/T/ipykernel_25642/1090602716.py:1: DtypeWarning: Columns (2,3,4,6,9,12,17,18) have mixed types. Specify dtype option on import or set low_memory=False.\n",
      "  all_comps = pd.read_csv('branded_food.csv')\n"
     ]
    }
   ],
   "source": [
    "all_comps = pd.read_csv('branded_food.csv')"
   ]
  },
  {
   "cell_type": "code",
   "execution_count": 26,
   "metadata": {},
   "outputs": [],
   "source": [
    "all_comps = all_comps[all_comps.branded_food_category == 'Other Meats']\n",
    "all_comps = all_comps[all_comps.serving_size == 112.0]"
   ]
  },
  {
   "cell_type": "code",
   "execution_count": 27,
   "metadata": {},
   "outputs": [],
   "source": [
    "master_all_df = all_comps.merge(nutrient_data, how = 'inner', on = 'fdc_id')\n",
    "master_all_df = master_all_df.merge(nutrient_code, how = 'inner', on = 'nutrient_id')"
   ]
  },
  {
   "cell_type": "code",
   "execution_count": 28,
   "metadata": {},
   "outputs": [],
   "source": [
    "master_all_df = master_all_df[(master_all_df.name == 'Iron, Fe')|(master_all_df.name == 'Cholesterol')|(master_all_df.name == 'Protein')|\n",
    "                                (master_all_df.name == 'Fatty acids, total saturated') | (master_all_df.name == 'Total lipid (fat)')]"
   ]
  },
  {
   "cell_type": "code",
   "execution_count": 29,
   "metadata": {},
   "outputs": [],
   "source": [
    "agg_all_df = master_all_df.groupby(['name']).agg({'amount':'median'}).reset_index()"
   ]
  },
  {
   "cell_type": "code",
   "execution_count": 30,
   "metadata": {},
   "outputs": [
    {
     "data": {
      "text/html": [
       "<div>\n",
       "<style scoped>\n",
       "    .dataframe tbody tr th:only-of-type {\n",
       "        vertical-align: middle;\n",
       "    }\n",
       "\n",
       "    .dataframe tbody tr th {\n",
       "        vertical-align: top;\n",
       "    }\n",
       "\n",
       "    .dataframe thead th {\n",
       "        text-align: right;\n",
       "    }\n",
       "</style>\n",
       "<table border=\"1\" class=\"dataframe\">\n",
       "  <thead>\n",
       "    <tr style=\"text-align: right;\">\n",
       "      <th></th>\n",
       "      <th>name</th>\n",
       "      <th>amount</th>\n",
       "    </tr>\n",
       "  </thead>\n",
       "  <tbody>\n",
       "    <tr>\n",
       "      <th>0</th>\n",
       "      <td>Cholesterol</td>\n",
       "      <td>67.00</td>\n",
       "    </tr>\n",
       "    <tr>\n",
       "      <th>1</th>\n",
       "      <td>Fatty acids, total saturated</td>\n",
       "      <td>5.36</td>\n",
       "    </tr>\n",
       "    <tr>\n",
       "      <th>2</th>\n",
       "      <td>Iron, Fe</td>\n",
       "      <td>1.61</td>\n",
       "    </tr>\n",
       "    <tr>\n",
       "      <th>3</th>\n",
       "      <td>Protein</td>\n",
       "      <td>18.75</td>\n",
       "    </tr>\n",
       "    <tr>\n",
       "      <th>4</th>\n",
       "      <td>Total lipid (fat)</td>\n",
       "      <td>13.39</td>\n",
       "    </tr>\n",
       "  </tbody>\n",
       "</table>\n",
       "</div>"
      ],
      "text/plain": [
       "                           name  amount\n",
       "0                   Cholesterol   67.00\n",
       "1  Fatty acids, total saturated    5.36\n",
       "2                      Iron, Fe    1.61\n",
       "3                       Protein   18.75\n",
       "4             Total lipid (fat)   13.39"
      ]
     },
     "execution_count": 30,
     "metadata": {},
     "output_type": "execute_result"
    }
   ],
   "source": [
    "agg_all_df"
   ]
  },
  {
   "cell_type": "markdown",
   "metadata": {},
   "source": [
    "#### Concatenate results for industry average and JBS"
   ]
  },
  {
   "cell_type": "code",
   "execution_count": 31,
   "metadata": {},
   "outputs": [],
   "source": [
    "output_df = agg_df.merge(agg_all_df, how = 'inner', on = 'name')"
   ]
  },
  {
   "cell_type": "code",
   "execution_count": 32,
   "metadata": {},
   "outputs": [],
   "source": [
    "output_df = output_df.rename(columns={'name':'nutrient_name', 'amount_x':'amount', 'amount_y':'industry_avg'})"
   ]
  },
  {
   "cell_type": "code",
   "execution_count": 33,
   "metadata": {},
   "outputs": [
    {
     "data": {
      "text/html": [
       "<div>\n",
       "<style scoped>\n",
       "    .dataframe tbody tr th:only-of-type {\n",
       "        vertical-align: middle;\n",
       "    }\n",
       "\n",
       "    .dataframe tbody tr th {\n",
       "        vertical-align: top;\n",
       "    }\n",
       "\n",
       "    .dataframe thead th {\n",
       "        text-align: right;\n",
       "    }\n",
       "</style>\n",
       "<table border=\"1\" class=\"dataframe\">\n",
       "  <thead>\n",
       "    <tr style=\"text-align: right;\">\n",
       "      <th></th>\n",
       "      <th>nutrient_name</th>\n",
       "      <th>brand_owner</th>\n",
       "      <th>amount</th>\n",
       "      <th>industry_avg</th>\n",
       "    </tr>\n",
       "  </thead>\n",
       "  <tbody>\n",
       "    <tr>\n",
       "      <th>0</th>\n",
       "      <td>Cholesterol</td>\n",
       "      <td>JBS USA, LLC</td>\n",
       "      <td>66.909091</td>\n",
       "      <td>67.00</td>\n",
       "    </tr>\n",
       "    <tr>\n",
       "      <th>1</th>\n",
       "      <td>Fatty acids, total saturated</td>\n",
       "      <td>JBS USA, LLC</td>\n",
       "      <td>5.431888</td>\n",
       "      <td>5.36</td>\n",
       "    </tr>\n",
       "    <tr>\n",
       "      <th>2</th>\n",
       "      <td>Iron, Fe</td>\n",
       "      <td>JBS USA, LLC</td>\n",
       "      <td>1.713357</td>\n",
       "      <td>1.61</td>\n",
       "    </tr>\n",
       "    <tr>\n",
       "      <th>3</th>\n",
       "      <td>Protein</td>\n",
       "      <td>JBS USA, LLC</td>\n",
       "      <td>18.905664</td>\n",
       "      <td>18.75</td>\n",
       "    </tr>\n",
       "    <tr>\n",
       "      <th>4</th>\n",
       "      <td>Total lipid (fat)</td>\n",
       "      <td>JBS USA, LLC</td>\n",
       "      <td>14.029441</td>\n",
       "      <td>13.39</td>\n",
       "    </tr>\n",
       "  </tbody>\n",
       "</table>\n",
       "</div>"
      ],
      "text/plain": [
       "                  nutrient_name   brand_owner     amount  industry_avg\n",
       "0                   Cholesterol  JBS USA, LLC  66.909091         67.00\n",
       "1  Fatty acids, total saturated  JBS USA, LLC   5.431888          5.36\n",
       "2                      Iron, Fe  JBS USA, LLC   1.713357          1.61\n",
       "3                       Protein  JBS USA, LLC  18.905664         18.75\n",
       "4             Total lipid (fat)  JBS USA, LLC  14.029441         13.39"
      ]
     },
     "execution_count": 33,
     "metadata": {},
     "output_type": "execute_result"
    }
   ],
   "source": [
    "output_df"
   ]
  },
  {
   "cell_type": "code",
   "execution_count": 34,
   "metadata": {},
   "outputs": [],
   "source": [
    "output_df.to_csv('nutrient_comparison.csv')"
   ]
  }
 ],
 "metadata": {
  "kernelspec": {
   "display_name": "Python 3.10.7 64-bit",
   "language": "python",
   "name": "python3"
  },
  "language_info": {
   "codemirror_mode": {
    "name": "ipython",
    "version": 3
   },
   "file_extension": ".py",
   "mimetype": "text/x-python",
   "name": "python",
   "nbconvert_exporter": "python",
   "pygments_lexer": "ipython3",
   "version": "3.10.7"
  },
  "orig_nbformat": 4,
  "vscode": {
   "interpreter": {
    "hash": "aee8b7b246df8f9039afb4144a1f6fd8d2ca17a180786b69acc140d282b71a49"
   }
  }
 },
 "nbformat": 4,
 "nbformat_minor": 2
}
